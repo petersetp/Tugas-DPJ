{
  "cells": [
    {
      "cell_type": "markdown",
      "metadata": {
        "id": "view-in-github",
        "colab_type": "text"
      },
      "source": [
        "<a href=\"https://colab.research.google.com/github/petersetp/Tugas-DPJ/blob/main/Tugas_DPJ.ipynb\" target=\"_parent\"><img src=\"https://colab.research.google.com/assets/colab-badge.svg\" alt=\"Open In Colab\"/></a>"
      ]
    },
    {
      "cell_type": "code",
      "execution_count": null,
      "metadata": {
        "colab": {
          "background_save": true,
          "base_uri": "https://localhost:8080/"
        },
        "id": "abEMGN2X5J_0",
        "outputId": "e31aebc2-4dcb-4071-f866-c909c5a181d8"
      },
      "outputs": [
        {
          "output_type": "stream",
          "name": "stdout",
          "text": [
            "ChatBot: Hello! Welcome to Red Bulls Phone, your source for the latest smartphones.\n",
            "ChatBot: How can I help you today? You can ask about iPhones, Samsung phones, or  Xiaomi.\n"
          ]
        }
      ],
      "source": [
        "import random\n",
        "\n",
        "# Define the chat bot responses\n",
        "responses = {\n",
        "    \"hello\": [\"Hi there!\", \"Hello!\", \"Hey! Welcome to Red Bulls Phone.\"],\n",
        "    \"bye\": [\"Goodbye!\", \"See you later!\", \"Thank you for visiting Red Bulls Phone!\"],\n",
        "    \"userName\": [\"Nice choice! Please provide us with your name\", \"Nice choice! Please give us your name\"],\n",
        "    \"iphone\": [\"Sure, we have iPhone 12, iPhone 13 and iPhone 14 in stock and also we have new product iPhone 15. Which one are you interested in buying?\", \"We have iPhone 12, iPhone 13 and iPhone 14 in stock and also we have new product iPhone 15. Which one would you like?\"],\n",
        "    \"samsung\": [\"Sure, we have Samsung S20, Samsung S21 and Samsung S22 in stock. Which one are you interested in buying?\", \"We have Samsung S20, Samsung S21 and Samsung S22 in stock. Which model would you like?\"],\n",
        "    \"xiaomi\": [\"Sorry, Xiaomi phones are not available.\", \"Sorry, Xiaomi phones are currently out of stock.\"],\n",
        "    \"location\": [\"Thanks, Please provide us with your address so we can arrange delivery.\", \"Thanks, We'll need your address for the delivery.\"],\n",
        "    \"phoneNumber\": [\"Thank you! Lastly, please provide your phone number so we can contact you.\", \"Thank you for providing your address. Can you also give us your phone number for contact purposes?\"],\n",
        "    \"default\": [\"I'm sorry, I couldn't quite catch that. Can you please rephrase?\", \"I'm not sure I understand. Could you provide more details?\", \"I'm here to assist you with phones. Can you tell me more about what you're looking for?\"]\n",
        "}\n",
        "\n",
        "# Function to get a response based on user input\n",
        "def getResponse(userInput):\n",
        "    userInput = userInput.lower()\n",
        "\n",
        "    for pattern, responseList in responses.items():\n",
        "        if pattern in userInput:\n",
        "            return random.choice(responseList)\n",
        "\n",
        "    return random.choice(responses[\"default\"])\n",
        "\n",
        "# Main function for the chat bot\n",
        "def main():\n",
        "    print(\"ChatBot: Hello! Welcome to Red Bulls Phone, your source for the latest smartphones.\")\n",
        "    print(\"ChatBot: How can I help you today? You can ask about iPhones, Samsung phones, or  Xiaomi.\")\n",
        "\n",
        "    while True:\n",
        "        userInput = input(\"You: \")\n",
        "        if userInput.lower() == \"exit\":\n",
        "            print(\"ChatBot: Thank you for visiting Red Bulls Phone. Have a great day!\")\n",
        "            break\n",
        "\n",
        "        response = getResponse(userInput)\n",
        "        print(\"ChatBot:\", response)\n",
        "\n",
        "        if \"iphone\" in userInput or \"samsung\" in userInput:\n",
        "            print(\"ChatBot:\", random.choice(responses[\"userName\"]))\n",
        "            userName = input(\"You: \")\n",
        "            print(\"ChatBot:\", random.choice(responses[\"location\"]))\n",
        "            address = input(\"You: \")\n",
        "            print(\"ChatBot:\", random.choice(responses[\"phoneNumber\"]))\n",
        "            phoneNumber = input(\"You: \")\n",
        "\n",
        "            # Create a text file with the order details\n",
        "            orderDetails = f\"Order Details:\\nPhone Model: {userInput}\\nName: {userName} \\nAddress: {address}\\nPhone Number: {phoneNumber}\\n\"\n",
        "            with open(f\"{userName} order.txt\", \"w\") as file:\n",
        "                file.write(orderDetails)\n",
        "\n",
        "            print(f\"ChatBot: Thank you! Your order has been placed and order details have been saved to '{userName} order.txt'. We will contact you shortly for confirmation.\")\n",
        "\n",
        "# Run the chat bot\n",
        "if __name__ == \"__main__\":\n",
        "       main()"
      ]
    }
  ],
  "metadata": {
    "colab": {
      "provenance": [],
      "authorship_tag": "ABX9TyNwVtFsQ6SUzSJTCgsNrMcZ",
      "include_colab_link": true
    },
    "kernelspec": {
      "display_name": "Python 3",
      "name": "python3"
    },
    "language_info": {
      "name": "python"
    }
  },
  "nbformat": 4,
  "nbformat_minor": 0
}